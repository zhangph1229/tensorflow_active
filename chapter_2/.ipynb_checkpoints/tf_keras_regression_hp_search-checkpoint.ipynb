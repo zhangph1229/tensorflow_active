{
 "cells": [
  {
   "cell_type": "code",
   "execution_count": 1,
   "metadata": {},
   "outputs": [
    {
     "name": "stdout",
     "output_type": "stream",
     "text": [
      "2.2.0\n",
      "sys.version_info(major=3, minor=7, micro=3, releaselevel='final', serial=0)\n",
      "matplotlib 3.2.1\n",
      "numpy 1.18.5\n",
      "pandas 1.0.4\n",
      "sklearn 0.23.1\n",
      "tensorflow 2.2.0\n",
      "tensorflow.keras 2.3.0-tf\n"
     ]
    }
   ],
   "source": [
    "import matplotlib as mpl \n",
    "import matplotlib.pyplot as plt\n",
    "%matplotlib inline\n",
    "import numpy as np\n",
    "import sklearn \n",
    "import pandas as pd \n",
    "import os \n",
    "import sys\n",
    "import time \n",
    "import tensorflow as tf \n",
    "from tensorflow import keras \n",
    "\n",
    "print(tf.__version__)\n",
    "print(sys.version_info)\n",
    "for module in mpl, np, pd, sklearn, tf, keras:\n",
    "    print(module.__name__, module.__version__)"
   ]
  },
  {
   "cell_type": "code",
   "execution_count": 2,
   "metadata": {},
   "outputs": [
    {
     "name": "stdout",
     "output_type": "stream",
     "text": [
      ".. _california_housing_dataset:\n",
      "\n",
      "California Housing dataset\n",
      "--------------------------\n",
      "\n",
      "**Data Set Characteristics:**\n",
      "\n",
      "    :Number of Instances: 20640\n",
      "\n",
      "    :Number of Attributes: 8 numeric, predictive attributes and the target\n",
      "\n",
      "    :Attribute Information:\n",
      "        - MedInc        median income in block\n",
      "        - HouseAge      median house age in block\n",
      "        - AveRooms      average number of rooms\n",
      "        - AveBedrms     average number of bedrooms\n",
      "        - Population    block population\n",
      "        - AveOccup      average house occupancy\n",
      "        - Latitude      house block latitude\n",
      "        - Longitude     house block longitude\n",
      "\n",
      "    :Missing Attribute Values: None\n",
      "\n",
      "This dataset was obtained from the StatLib repository.\n",
      "http://lib.stat.cmu.edu/datasets/\n",
      "\n",
      "The target variable is the median house value for California districts.\n",
      "\n",
      "This dataset was derived from the 1990 U.S. census, using one row per census\n",
      "block group. A block group is the smallest geographical unit for which the U.S.\n",
      "Census Bureau publishes sample data (a block group typically has a population\n",
      "of 600 to 3,000 people).\n",
      "\n",
      "It can be downloaded/loaded using the\n",
      ":func:`sklearn.datasets.fetch_california_housing` function.\n",
      "\n",
      ".. topic:: References\n",
      "\n",
      "    - Pace, R. Kelley and Ronald Barry, Sparse Spatial Autoregressions,\n",
      "      Statistics and Probability Letters, 33 (1997) 291-297\n",
      "\n",
      "(20640, 8)\n",
      "(20640,)\n"
     ]
    }
   ],
   "source": [
    "# 导入数据\n",
    "from sklearn.datasets import fetch_california_housing\n",
    "\n",
    "housing = fetch_california_housing()\n",
    "print(housing.DESCR)\n",
    "print(housing.data.shape)\n",
    "print(housing.target.shape)"
   ]
  },
  {
   "cell_type": "code",
   "execution_count": 3,
   "metadata": {},
   "outputs": [
    {
     "name": "stdout",
     "output_type": "stream",
     "text": [
      "(11610, 8) (11610,)\n",
      "(3870, 8) (3870,)\n",
      "(5160, 8) (5160,)\n"
     ]
    }
   ],
   "source": [
    "from sklearn.model_selection import train_test_split\n",
    "\n",
    "x_train_all, x_test, y_train_all, y_test = train_test_split(\n",
    "    housing.data, housing.target, random_state=7)\n",
    "\n",
    "x_train, x_valid, y_train, y_valid = train_test_split(\n",
    "    x_train_all, y_train_all, random_state= 11)\n",
    "\n",
    "print(x_train.shape, y_train.shape)\n",
    "print(x_valid.shape, y_valid.shape)\n",
    "print(x_test.shape, y_test.shape)"
   ]
  },
  {
   "cell_type": "code",
   "execution_count": 4,
   "metadata": {},
   "outputs": [
    {
     "name": "stdout",
     "output_type": "stream",
     "text": [
      "(11610, 8)\n",
      "(3870, 8)\n",
      "(5160, 8)\n",
      "28566.0 -124.3 81.80221745207753 -2.3594398206242224\n"
     ]
    }
   ],
   "source": [
    "from sklearn.preprocessing import StandardScaler\n",
    "\n",
    "scaler = StandardScaler()\n",
    "x_train_scaled = scaler.fit_transform(x_train)\n",
    "x_valid_scaled = scaler.transform(x_valid)\n",
    "x_test_scaled = scaler.transform(x_test)\n",
    "\n",
    "print(x_train_scaled.shape)\n",
    "print(x_valid_scaled.shape)\n",
    "print(x_test_scaled.shape)\n",
    "print(np.max(x_train), np.min(x_train), np.max(x_train_scaled), np.min(x_train_scaled))"
   ]
  },
  {
   "cell_type": "code",
   "execution_count": 5,
   "metadata": {},
   "outputs": [
    {
     "name": "stdout",
     "output_type": "stream",
     "text": [
      "Epoch 1/100\n",
      "363/363 [==============================] - 0s 1ms/step - loss: 4.3638 - val_loss: 3.7121\n",
      "Epoch 2/100\n",
      "363/363 [==============================] - 0s 784us/step - loss: 3.0771 - val_loss: 2.6648\n",
      "Epoch 3/100\n",
      "363/363 [==============================] - 0s 786us/step - loss: 2.2733 - val_loss: 2.0070\n",
      "Epoch 4/100\n",
      "363/363 [==============================] - 0s 761us/step - loss: 1.7586 - val_loss: 1.5909\n",
      "Epoch 5/100\n",
      "363/363 [==============================] - 0s 786us/step - loss: 1.4212 - val_loss: 1.3192\n",
      "Epoch 6/100\n",
      "363/363 [==============================] - 0s 793us/step - loss: 1.1953 - val_loss: 1.1383\n",
      "Epoch 7/100\n",
      "363/363 [==============================] - 0s 776us/step - loss: 1.0399 - val_loss: 1.0147\n",
      "Epoch 8/100\n",
      "363/363 [==============================] - 0s 798us/step - loss: 0.9320 - val_loss: 0.9293\n",
      "Epoch 9/100\n",
      "363/363 [==============================] - 0s 792us/step - loss: 0.8557 - val_loss: 0.8689\n",
      "Epoch 10/100\n",
      "363/363 [==============================] - 0s 798us/step - loss: 0.8006 - val_loss: 0.8250\n",
      "Epoch 11/100\n",
      "363/363 [==============================] - 0s 774us/step - loss: 0.7605 - val_loss: 0.7930\n",
      "Epoch 12/100\n",
      "363/363 [==============================] - 0s 793us/step - loss: 0.7305 - val_loss: 0.7687\n",
      "Epoch 13/100\n",
      "363/363 [==============================] - 0s 800us/step - loss: 0.7078 - val_loss: 0.7499\n",
      "Epoch 14/100\n",
      "363/363 [==============================] - 0s 781us/step - loss: 0.6902 - val_loss: 0.7350\n",
      "Epoch 15/100\n",
      "363/363 [==============================] - 0s 786us/step - loss: 0.6763 - val_loss: 0.7229\n",
      "Epoch 16/100\n",
      "363/363 [==============================] - 0s 812us/step - loss: 0.6651 - val_loss: 0.7127\n",
      "Epoch 17/100\n",
      "363/363 [==============================] - 0s 770us/step - loss: 0.6558 - val_loss: 0.7040\n",
      "Epoch 18/100\n",
      "363/363 [==============================] - 0s 790us/step - loss: 0.6479 - val_loss: 0.6964\n",
      "Epoch 19/100\n",
      "363/363 [==============================] - 0s 753us/step - loss: 0.6411 - val_loss: 0.6897\n",
      "Epoch 20/100\n",
      "363/363 [==============================] - 0s 763us/step - loss: 0.6351 - val_loss: 0.6837\n",
      "Epoch 21/100\n",
      "363/363 [==============================] - 0s 776us/step - loss: 0.6297 - val_loss: 0.6781\n",
      "Epoch 22/100\n",
      "363/363 [==============================] - 0s 796us/step - loss: 0.6248 - val_loss: 0.6729\n",
      "Epoch 23/100\n",
      "363/363 [==============================] - 0s 796us/step - loss: 0.6203 - val_loss: 0.6680\n",
      "Epoch 24/100\n",
      "363/363 [==============================] - 0s 779us/step - loss: 0.6160 - val_loss: 0.6634\n",
      "Epoch 25/100\n",
      "363/363 [==============================] - 0s 793us/step - loss: 0.6120 - val_loss: 0.6591\n",
      "Epoch 26/100\n",
      "363/363 [==============================] - 0s 765us/step - loss: 0.6081 - val_loss: 0.6549\n",
      "Epoch 27/100\n",
      "363/363 [==============================] - 0s 789us/step - loss: 0.6044 - val_loss: 0.6509\n",
      "Epoch 28/100\n",
      "363/363 [==============================] - 0s 793us/step - loss: 0.6009 - val_loss: 0.6470\n",
      "Epoch 29/100\n",
      "363/363 [==============================] - 0s 773us/step - loss: 0.5974 - val_loss: 0.6433\n",
      "Epoch 30/100\n",
      "363/363 [==============================] - 0s 744us/step - loss: 0.5941 - val_loss: 0.6397\n",
      "Epoch 31/100\n",
      "363/363 [==============================] - 0s 791us/step - loss: 0.5909 - val_loss: 0.6362\n",
      "Epoch 32/100\n",
      "363/363 [==============================] - 0s 770us/step - loss: 0.5878 - val_loss: 0.6328\n",
      "Epoch 33/100\n",
      "363/363 [==============================] - 0s 773us/step - loss: 0.5848 - val_loss: 0.6296\n",
      "Epoch 34/100\n",
      "363/363 [==============================] - 0s 780us/step - loss: 0.5818 - val_loss: 0.6264\n",
      "Epoch 35/100\n",
      "363/363 [==============================] - 0s 780us/step - loss: 0.5790 - val_loss: 0.6233\n",
      "Epoch 36/100\n",
      "363/363 [==============================] - 0s 785us/step - loss: 0.5762 - val_loss: 0.6203\n",
      "Epoch 37/100\n",
      "363/363 [==============================] - 0s 760us/step - loss: 0.5735 - val_loss: 0.6174\n",
      "Epoch 38/100\n",
      "363/363 [==============================] - 0s 777us/step - loss: 0.5708 - val_loss: 0.6146\n",
      "Epoch 39/100\n",
      "363/363 [==============================] - 0s 790us/step - loss: 0.5683 - val_loss: 0.6118\n",
      "Epoch 40/100\n",
      "363/363 [==============================] - 0s 757us/step - loss: 0.5658 - val_loss: 0.6091\n",
      "Epoch 41/100\n",
      "363/363 [==============================] - 0s 778us/step - loss: 0.5633 - val_loss: 0.6065\n",
      "Epoch 42/100\n",
      "363/363 [==============================] - 0s 753us/step - loss: 0.5609 - val_loss: 0.6040\n",
      "Epoch 43/100\n",
      "363/363 [==============================] - 0s 739us/step - loss: 0.5586 - val_loss: 0.6015\n",
      "Epoch 44/100\n",
      "363/363 [==============================] - 0s 765us/step - loss: 0.5563 - val_loss: 0.5992\n",
      "Epoch 45/100\n",
      "363/363 [==============================] - 0s 806us/step - loss: 0.5541 - val_loss: 0.5968\n",
      "Epoch 46/100\n",
      "363/363 [==============================] - 0s 772us/step - loss: 0.5520 - val_loss: 0.5946\n",
      "Epoch 47/100\n",
      "363/363 [==============================] - 0s 770us/step - loss: 0.5499 - val_loss: 0.5924\n",
      "Epoch 48/100\n",
      "363/363 [==============================] - 0s 813us/step - loss: 0.5479 - val_loss: 0.5902\n",
      "Epoch 49/100\n",
      "363/363 [==============================] - 0s 781us/step - loss: 0.5459 - val_loss: 0.5881\n",
      "Epoch 50/100\n",
      "363/363 [==============================] - 0s 798us/step - loss: 0.5439 - val_loss: 0.5860\n",
      "Epoch 51/100\n",
      "363/363 [==============================] - 0s 825us/step - loss: 0.5420 - val_loss: 0.5840\n",
      "Epoch 52/100\n",
      "363/363 [==============================] - 0s 763us/step - loss: 0.5402 - val_loss: 0.5821\n",
      "Epoch 53/100\n",
      "363/363 [==============================] - 0s 769us/step - loss: 0.5384 - val_loss: 0.5801\n",
      "Epoch 54/100\n",
      "363/363 [==============================] - 0s 781us/step - loss: 0.5367 - val_loss: 0.5782\n",
      "Epoch 55/100\n",
      "363/363 [==============================] - 0s 767us/step - loss: 0.5349 - val_loss: 0.5764\n",
      "Epoch 56/100\n",
      "363/363 [==============================] - 0s 783us/step - loss: 0.5333 - val_loss: 0.5746\n",
      "Epoch 57/100\n",
      "363/363 [==============================] - 0s 791us/step - loss: 0.5317 - val_loss: 0.5728\n",
      "Epoch 58/100\n",
      "363/363 [==============================] - 0s 800us/step - loss: 0.5301 - val_loss: 0.5710\n",
      "Epoch 1/100\n",
      "363/363 [==============================] - 0s 902us/step - loss: 3.6170 - val_loss: 2.5073\n",
      "Epoch 2/100\n",
      "363/363 [==============================] - 0s 758us/step - loss: 1.8725 - val_loss: 1.5466\n",
      "Epoch 3/100\n",
      "363/363 [==============================] - 0s 779us/step - loss: 1.2548 - val_loss: 1.1522\n",
      "Epoch 4/100\n",
      "363/363 [==============================] - 0s 778us/step - loss: 0.9777 - val_loss: 0.9581\n",
      "Epoch 5/100\n",
      "363/363 [==============================] - 0s 771us/step - loss: 0.8369 - val_loss: 0.8487\n",
      "Epoch 6/100\n",
      "363/363 [==============================] - 0s 758us/step - loss: 0.7578 - val_loss: 0.7840\n",
      "Epoch 7/100\n",
      "363/363 [==============================] - 0s 764us/step - loss: 0.7089 - val_loss: 0.7417\n",
      "Epoch 8/100\n",
      "363/363 [==============================] - 0s 779us/step - loss: 0.6757 - val_loss: 0.7127\n",
      "Epoch 9/100\n",
      "363/363 [==============================] - 0s 770us/step - loss: 0.6516 - val_loss: 0.6910\n",
      "Epoch 10/100\n",
      "363/363 [==============================] - 0s 782us/step - loss: 0.6328 - val_loss: 0.6738\n",
      "Epoch 11/100\n",
      "363/363 [==============================] - 0s 777us/step - loss: 0.6173 - val_loss: 0.6591\n",
      "Epoch 12/100\n",
      "363/363 [==============================] - 0s 784us/step - loss: 0.6039 - val_loss: 0.6459\n",
      "Epoch 13/100\n",
      "363/363 [==============================] - 0s 777us/step - loss: 0.5922 - val_loss: 0.6341\n",
      "Epoch 14/100\n",
      "363/363 [==============================] - 0s 773us/step - loss: 0.5817 - val_loss: 0.6237\n",
      "Epoch 15/100\n",
      "363/363 [==============================] - 0s 764us/step - loss: 0.5722 - val_loss: 0.6138\n",
      "Epoch 16/100\n",
      "363/363 [==============================] - 0s 748us/step - loss: 0.5636 - val_loss: 0.6050\n",
      "Epoch 17/100\n",
      "363/363 [==============================] - 0s 779us/step - loss: 0.5558 - val_loss: 0.5968\n",
      "Epoch 18/100\n",
      "363/363 [==============================] - 0s 800us/step - loss: 0.5485 - val_loss: 0.5890\n",
      "Epoch 19/100\n",
      "363/363 [==============================] - 0s 772us/step - loss: 0.5419 - val_loss: 0.5818\n",
      "Epoch 20/100\n",
      "363/363 [==============================] - 0s 772us/step - loss: 0.5358 - val_loss: 0.5753\n",
      "Epoch 21/100\n",
      "363/363 [==============================] - 0s 762us/step - loss: 0.5302 - val_loss: 0.5692\n"
     ]
    },
    {
     "name": "stdout",
     "output_type": "stream",
     "text": [
      "Epoch 22/100\n",
      "363/363 [==============================] - 0s 738us/step - loss: 0.5250 - val_loss: 0.5637\n",
      "Epoch 23/100\n",
      "363/363 [==============================] - 0s 794us/step - loss: 0.5203 - val_loss: 0.5587\n",
      "Epoch 24/100\n",
      "363/363 [==============================] - 0s 760us/step - loss: 0.5160 - val_loss: 0.5537\n",
      "Epoch 25/100\n",
      "363/363 [==============================] - 0s 758us/step - loss: 0.5121 - val_loss: 0.5491\n",
      "Epoch 26/100\n",
      "363/363 [==============================] - 0s 754us/step - loss: 0.5084 - val_loss: 0.5450\n",
      "Epoch 27/100\n",
      "363/363 [==============================] - 0s 773us/step - loss: 0.5050 - val_loss: 0.5412\n",
      "Epoch 28/100\n",
      "363/363 [==============================] - 0s 749us/step - loss: 0.5018 - val_loss: 0.5376\n",
      "Epoch 29/100\n",
      "363/363 [==============================] - 0s 754us/step - loss: 0.4988 - val_loss: 0.5341\n",
      "Epoch 30/100\n",
      "363/363 [==============================] - 0s 734us/step - loss: 0.4960 - val_loss: 0.5311\n",
      "Epoch 31/100\n",
      "363/363 [==============================] - 0s 739us/step - loss: 0.4934 - val_loss: 0.5282\n",
      "Epoch 32/100\n",
      "363/363 [==============================] - 0s 766us/step - loss: 0.4908 - val_loss: 0.5253\n",
      "Epoch 33/100\n",
      "363/363 [==============================] - 0s 751us/step - loss: 0.4885 - val_loss: 0.5226\n",
      "Epoch 34/100\n",
      "363/363 [==============================] - 0s 763us/step - loss: 0.4863 - val_loss: 0.5201\n",
      "Epoch 35/100\n",
      "363/363 [==============================] - 0s 775us/step - loss: 0.4841 - val_loss: 0.5176\n",
      "Epoch 36/100\n",
      "363/363 [==============================] - 0s 768us/step - loss: 0.4821 - val_loss: 0.5153\n",
      "Epoch 37/100\n",
      "363/363 [==============================] - 0s 774us/step - loss: 0.4801 - val_loss: 0.5132\n",
      "Epoch 38/100\n",
      "363/363 [==============================] - 0s 739us/step - loss: 0.4783 - val_loss: 0.5111\n",
      "Epoch 39/100\n",
      "363/363 [==============================] - 0s 769us/step - loss: 0.4765 - val_loss: 0.5093\n",
      "Epoch 40/100\n",
      "363/363 [==============================] - 0s 779us/step - loss: 0.4748 - val_loss: 0.5071\n",
      "Epoch 41/100\n",
      "363/363 [==============================] - 0s 757us/step - loss: 0.4733 - val_loss: 0.5053\n",
      "Epoch 1/100\n",
      "363/363 [==============================] - 0s 859us/step - loss: 1.9785 - val_loss: 0.8286\n",
      "Epoch 2/100\n",
      "363/363 [==============================] - 0s 768us/step - loss: 0.6682 - val_loss: 0.6960\n",
      "Epoch 3/100\n",
      "363/363 [==============================] - 0s 768us/step - loss: 0.6171 - val_loss: 0.6522\n",
      "Epoch 4/100\n",
      "363/363 [==============================] - 0s 755us/step - loss: 0.5890 - val_loss: 0.6246\n",
      "Epoch 5/100\n",
      "363/363 [==============================] - 0s 737us/step - loss: 0.5653 - val_loss: 0.5984\n",
      "Epoch 6/100\n",
      "363/363 [==============================] - 0s 739us/step - loss: 0.5450 - val_loss: 0.5777\n",
      "Epoch 7/100\n",
      "363/363 [==============================] - 0s 732us/step - loss: 0.5283 - val_loss: 0.5592\n",
      "Epoch 8/100\n",
      "363/363 [==============================] - 0s 754us/step - loss: 0.5141 - val_loss: 0.5445\n",
      "Epoch 9/100\n",
      "363/363 [==============================] - 0s 737us/step - loss: 0.5019 - val_loss: 0.5326\n",
      "Epoch 10/100\n",
      "363/363 [==============================] - 0s 757us/step - loss: 0.4908 - val_loss: 0.5209\n",
      "Epoch 11/100\n",
      "363/363 [==============================] - 0s 772us/step - loss: 0.4809 - val_loss: 0.5099\n",
      "Epoch 12/100\n",
      "363/363 [==============================] - 0s 749us/step - loss: 0.4731 - val_loss: 0.5021\n",
      "Epoch 13/100\n",
      "363/363 [==============================] - 0s 738us/step - loss: 0.4656 - val_loss: 0.4941\n",
      "Epoch 14/100\n",
      "363/363 [==============================] - 0s 744us/step - loss: 0.4593 - val_loss: 0.4875\n",
      "Epoch 15/100\n",
      "363/363 [==============================] - 0s 791us/step - loss: 0.4539 - val_loss: 0.4807\n",
      "Epoch 16/100\n",
      "363/363 [==============================] - 0s 777us/step - loss: 0.4489 - val_loss: 0.4748\n",
      "Epoch 17/100\n",
      "363/363 [==============================] - 0s 771us/step - loss: 0.4445 - val_loss: 0.4723\n",
      "Epoch 18/100\n",
      "363/363 [==============================] - 0s 779us/step - loss: 0.4408 - val_loss: 0.4656\n",
      "Epoch 19/100\n",
      "363/363 [==============================] - 0s 784us/step - loss: 0.4373 - val_loss: 0.4626\n",
      "Epoch 20/100\n",
      "363/363 [==============================] - 0s 785us/step - loss: 0.4339 - val_loss: 0.4581\n",
      "Epoch 21/100\n",
      "363/363 [==============================] - 0s 755us/step - loss: 0.4307 - val_loss: 0.4534\n",
      "Epoch 22/100\n",
      "363/363 [==============================] - 0s 794us/step - loss: 0.4282 - val_loss: 0.4510\n",
      "Epoch 23/100\n",
      "363/363 [==============================] - 0s 776us/step - loss: 0.4252 - val_loss: 0.4482\n",
      "Epoch 24/100\n",
      "363/363 [==============================] - 0s 783us/step - loss: 0.4223 - val_loss: 0.4446\n",
      "Epoch 25/100\n",
      "363/363 [==============================] - 0s 788us/step - loss: 0.4205 - val_loss: 0.4416\n",
      "Epoch 26/100\n",
      "363/363 [==============================] - 0s 782us/step - loss: 0.4181 - val_loss: 0.4402\n",
      "Epoch 27/100\n",
      "363/363 [==============================] - 0s 764us/step - loss: 0.4158 - val_loss: 0.4379\n",
      "Epoch 28/100\n",
      "363/363 [==============================] - 0s 774us/step - loss: 0.4137 - val_loss: 0.4347\n",
      "Epoch 29/100\n",
      "363/363 [==============================] - 0s 758us/step - loss: 0.4123 - val_loss: 0.4333\n",
      "Epoch 30/100\n",
      "363/363 [==============================] - 0s 800us/step - loss: 0.4101 - val_loss: 0.4306\n",
      "Epoch 31/100\n",
      "363/363 [==============================] - 0s 756us/step - loss: 0.4082 - val_loss: 0.4278\n",
      "Epoch 32/100\n",
      "363/363 [==============================] - 0s 786us/step - loss: 0.4063 - val_loss: 0.4264\n",
      "Epoch 33/100\n",
      "363/363 [==============================] - 0s 793us/step - loss: 0.4048 - val_loss: 0.4254\n",
      "Epoch 34/100\n",
      "363/363 [==============================] - 0s 764us/step - loss: 0.4032 - val_loss: 0.4227\n",
      "Epoch 35/100\n",
      "363/363 [==============================] - 0s 759us/step - loss: 0.4017 - val_loss: 0.4213\n",
      "Epoch 1/100\n",
      "363/363 [==============================] - 0s 876us/step - loss: 1.1354 - val_loss: 0.7237\n",
      "Epoch 2/100\n",
      "363/363 [==============================] - 0s 780us/step - loss: 0.6147 - val_loss: 0.6376\n",
      "Epoch 3/100\n",
      "363/363 [==============================] - 0s 766us/step - loss: 0.5539 - val_loss: 0.5799\n",
      "Epoch 4/100\n",
      "363/363 [==============================] - 0s 795us/step - loss: 0.5165 - val_loss: 0.5437\n",
      "Epoch 5/100\n",
      "363/363 [==============================] - 0s 781us/step - loss: 0.4895 - val_loss: 0.5197\n",
      "Epoch 6/100\n",
      "363/363 [==============================] - 0s 769us/step - loss: 0.4715 - val_loss: 0.4991\n",
      "Epoch 7/100\n",
      "363/363 [==============================] - 0s 777us/step - loss: 0.4570 - val_loss: 0.4850\n",
      "Epoch 8/100\n",
      "363/363 [==============================] - 0s 787us/step - loss: 0.4464 - val_loss: 0.4727\n",
      "Epoch 9/100\n",
      "363/363 [==============================] - 0s 763us/step - loss: 0.4377 - val_loss: 0.4625\n",
      "Epoch 10/100\n",
      "363/363 [==============================] - 0s 782us/step - loss: 0.4308 - val_loss: 0.4567\n",
      "Epoch 11/100\n",
      "363/363 [==============================] - 0s 778us/step - loss: 0.4250 - val_loss: 0.4479\n",
      "Epoch 12/100\n",
      "363/363 [==============================] - 0s 776us/step - loss: 0.4192 - val_loss: 0.4430\n",
      "Epoch 13/100\n",
      "363/363 [==============================] - 0s 770us/step - loss: 0.4148 - val_loss: 0.4372\n",
      "Epoch 14/100\n",
      "363/363 [==============================] - 0s 775us/step - loss: 0.4101 - val_loss: 0.4324\n",
      "Epoch 15/100\n",
      "363/363 [==============================] - 0s 781us/step - loss: 0.4064 - val_loss: 0.4302\n",
      "Epoch 16/100\n",
      "363/363 [==============================] - 0s 780us/step - loss: 0.4028 - val_loss: 0.4243\n",
      "Epoch 17/100\n",
      "363/363 [==============================] - 0s 789us/step - loss: 0.3998 - val_loss: 0.4215\n",
      "Epoch 18/100\n",
      "363/363 [==============================] - 0s 779us/step - loss: 0.3974 - val_loss: 0.4151\n",
      "Epoch 19/100\n",
      "363/363 [==============================] - 0s 779us/step - loss: 0.3949 - val_loss: 0.4148\n",
      "Epoch 20/100\n",
      "363/363 [==============================] - 0s 772us/step - loss: 0.3930 - val_loss: 0.4118\n",
      "Epoch 21/100\n",
      "363/363 [==============================] - 0s 782us/step - loss: 0.3908 - val_loss: 0.4110\n",
      "Epoch 22/100\n",
      "363/363 [==============================] - 0s 789us/step - loss: 0.3888 - val_loss: 0.4061\n",
      "Epoch 23/100\n",
      "363/363 [==============================] - 0s 771us/step - loss: 0.3866 - val_loss: 0.4052\n",
      "Epoch 24/100\n",
      "363/363 [==============================] - 0s 778us/step - loss: 0.3849 - val_loss: 0.4027\n"
     ]
    },
    {
     "name": "stdout",
     "output_type": "stream",
     "text": [
      "Epoch 25/100\n",
      "363/363 [==============================] - 0s 771us/step - loss: 0.3832 - val_loss: 0.4030\n",
      "Epoch 1/100\n",
      "363/363 [==============================] - 0s 876us/step - loss: 1.5732 - val_loss: 0.5728\n",
      "Epoch 2/100\n",
      "363/363 [==============================] - 0s 768us/step - loss: 0.4614 - val_loss: 0.4487\n",
      "Epoch 3/100\n",
      "363/363 [==============================] - 0s 809us/step - loss: 0.4074 - val_loss: 0.4101\n",
      "Epoch 4/100\n",
      "363/363 [==============================] - 0s 784us/step - loss: 0.3896 - val_loss: 0.3952\n",
      "Epoch 5/100\n",
      "363/363 [==============================] - 0s 768us/step - loss: 0.3810 - val_loss: 0.3866\n",
      "Epoch 6/100\n",
      "363/363 [==============================] - 0s 764us/step - loss: 0.3759 - val_loss: 0.3821\n",
      "Epoch 7/100\n",
      "363/363 [==============================] - 0s 749us/step - loss: 0.3702 - val_loss: 0.3865\n",
      "Epoch 8/100\n",
      "363/363 [==============================] - 0s 760us/step - loss: 0.3678 - val_loss: 0.3791\n",
      "Epoch 9/100\n",
      "363/363 [==============================] - 0s 765us/step - loss: 0.3658 - val_loss: 0.3744\n",
      "Epoch 10/100\n",
      "363/363 [==============================] - 0s 753us/step - loss: 0.3641 - val_loss: 0.3758\n",
      "Epoch 11/100\n",
      "363/363 [==============================] - 0s 807us/step - loss: 0.3610 - val_loss: 0.3712\n",
      "Epoch 12/100\n",
      "363/363 [==============================] - 0s 813us/step - loss: 0.3584 - val_loss: 0.3720\n",
      "Epoch 13/100\n",
      "363/363 [==============================] - 0s 775us/step - loss: 0.3583 - val_loss: 0.3712\n",
      "Epoch 14/100\n",
      "363/363 [==============================] - 0s 815us/step - loss: 0.3561 - val_loss: 0.3665\n",
      "Epoch 15/100\n",
      "363/363 [==============================] - 0s 783us/step - loss: 0.3528 - val_loss: 0.3661\n",
      "Epoch 16/100\n",
      "363/363 [==============================] - 0s 795us/step - loss: 0.3527 - val_loss: 0.3679\n",
      "Epoch 1/100\n",
      "363/363 [==============================] - 0s 897us/step - loss: nan - val_loss: nan\n",
      "Epoch 2/100\n",
      "363/363 [==============================] - 0s 800us/step - loss: nan - val_loss: nan\n",
      "Epoch 3/100\n",
      "363/363 [==============================] - 0s 786us/step - loss: nan - val_loss: nan\n",
      "Epoch 4/100\n",
      "363/363 [==============================] - 0s 794us/step - loss: nan - val_loss: nan\n",
      "Epoch 5/100\n",
      "363/363 [==============================] - 0s 764us/step - loss: nan - val_loss: nan\n"
     ]
    }
   ],
   "source": [
    "# 超参数搜索\n",
    "# learning_rate: [1e-4, 3e-4, 1e-3, 3e-3, 1e-2, 3e-2]\n",
    "# W = W + grad * learning_rate\n",
    "learning_rate = [1e-4, 3e-4, 1e-3, 3e-3, 1e-2, 3e-2]\n",
    "histories = []\n",
    "for lr in learning_rate:\n",
    "    model = keras.models.Sequential([\n",
    "        keras.layers.Dense(30, activation='relu',\n",
    "                          input_shape=x_train.shape[1:]),\n",
    "        keras.layers.Dense(1)\n",
    "    ])\n",
    "    # lr 可以衰减\n",
    "    optimizer = keras.optimizers.SGD(lr)\n",
    "\n",
    "    model.compile(loss='mean_squared_error', optimizer=optimizer)\n",
    "    callbacks = [keras.callbacks.EarlyStopping(patience=5, min_delta=1e-2)]\n",
    "    history=model.fit(x_train_scaled, y_train, epochs=100, \n",
    "                     validation_data=(x_valid_scaled, y_valid),\n",
    "                     callbacks=callbacks)\n",
    "    histories.append(history)"
   ]
  },
  {
   "cell_type": "code",
   "execution_count": 6,
   "metadata": {},
   "outputs": [
    {
     "name": "stdout",
     "output_type": "stream",
     "text": [
      "0.0001\n"
     ]
    },
    {
     "data": {
      "image/png": "[encoded data removed]",
      "text/plain": [
       "<Figure size 576x360 with 1 Axes>"
      ]
     },
     "metadata": {
      "needs_background": "light"
     },
     "output_type": "display_data"
    },
    {
     "name": "stdout",
     "output_type": "stream",
     "text": [
      "0.0003\n"
     ]
    },
    {
     "data": {
      "image/png": "[encoded data removed]",
      "text/plain": [
       "<Figure size 576x360 with 1 Axes>"
      ]
     },
     "metadata": {
      "needs_background": "light"
     },
     "output_type": "display_data"
    },
    {
     "name": "stdout",
     "output_type": "stream",
     "text": [
      "0.001\n"
     ]
    },
    {
     "data": {
      "image/png": "[encoded data removed]",
      "text/plain": [
       "<Figure size 576x360 with 1 Axes>"
      ]
     },
     "metadata": {
      "needs_background": "light"
     },
     "output_type": "display_data"
    },
    {
     "name": "stdout",
     "output_type": "stream",
     "text": [
      "0.003\n"
     ]
    },
    {
     "data": {
      "image/png": "[encoded data removed]",
      "text/plain": [
       "<Figure size 576x360 with 1 Axes>"
      ]
     },
     "metadata": {
      "needs_background": "light"
     },
     "output_type": "display_data"
    },
    {
     "name": "stdout",
     "output_type": "stream",
     "text": [
      "0.01\n"
     ]
    },
    {
     "data": {
      "image/png": "[encoded data removed]",
      "text/plain": [
       "<Figure size 576x360 with 1 Axes>"
      ]
     },
     "metadata": {
      "needs_background": "light"
     },
     "output_type": "display_data"
    },
    {
     "name": "stdout",
     "output_type": "stream",
     "text": [
      "0.03\n"
     ]
    },
    {
     "data": {
      "image/png": "[encoded data removed]",
      "text/plain": [
       "<Figure size 576x360 with 1 Axes>"
      ]
     },
     "metadata": {
      "needs_background": "light"
     },
     "output_type": "display_data"
    }
   ],
   "source": [
    "def plot_learning_curves(history):\n",
    "    pd.DataFrame(history.history).plot(figsize=(8, 5))\n",
    "    plt.grid(True)\n",
    "    plt.gca().set_ylim(0, 1)\n",
    "    plt.show()\n",
    "for lr, history in zip(learning_rate, histories):\n",
    "    print(lr)    \n",
    "    plot_learning_curves(history)"
   ]
  },
  {
   "cell_type": "code",
   "execution_count": null,
   "metadata": {},
   "outputs": [],
   "source": [
    "model.evaluate(x_test_scaled, y_test)"
   ]
  },
  {
   "cell_type": "code",
   "execution_count": null,
   "metadata": {},
   "outputs": [],
   "source": []
  }
 ],
 "metadata": {
  "kernelspec": {
   "display_name": "Python 3",
   "language": "python",
   "name": "python3"
  },
  "language_info": {
   "codemirror_mode": {
    "name": "ipython",
    "version": 3
   },
   "file_extension": ".py",
   "mimetype": "text/x-python",
   "name": "python",
   "nbconvert_exporter": "python",
   "pygments_lexer": "ipython3",
   "version": "3.7.3"
  }
 },
 "nbformat": 4,
 "nbformat_minor": 4
}
