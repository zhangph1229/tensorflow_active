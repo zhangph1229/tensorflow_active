{
 "cells": [
  {
   "cell_type": "code",
   "execution_count": 1,
   "metadata": {},
   "outputs": [
    {
     "name": "stdout",
     "output_type": "stream",
     "text": [
      "2.2.0\n",
      "sys.version_info(major=3, minor=7, micro=3, releaselevel='final', serial=0)\n",
      "matplotlib 3.2.1\n",
      "numpy 1.18.5\n",
      "pandas 1.0.4\n",
      "sklearn 0.23.1\n",
      "tensorflow 2.2.0\n",
      "tensorflow.keras 2.3.0-tf\n"
     ]
    }
   ],
   "source": [
    "import matplotlib as mpl \n",
    "import matplotlib.pyplot as plt\n",
    "%matplotlib inline\n",
    "import numpy as np\n",
    "import sklearn \n",
    "import pandas as pd \n",
    "import os \n",
    "import sys\n",
    "import time \n",
    "import tensorflow as tf \n",
    "from tensorflow import keras \n",
    "\n",
    "print(tf.__version__)\n",
    "print(sys.version_info)\n",
    "for module in mpl, np, pd, sklearn, tf, keras:\n",
    "    print(module.__name__, module.__version__)"
   ]
  },
  {
   "cell_type": "code",
   "execution_count": 2,
   "metadata": {},
   "outputs": [
    {
     "name": "stdout",
     "output_type": "stream",
     "text": [
      ".. _california_housing_dataset:\n",
      "\n",
      "California Housing dataset\n",
      "--------------------------\n",
      "\n",
      "**Data Set Characteristics:**\n",
      "\n",
      "    :Number of Instances: 20640\n",
      "\n",
      "    :Number of Attributes: 8 numeric, predictive attributes and the target\n",
      "\n",
      "    :Attribute Information:\n",
      "        - MedInc        median income in block\n",
      "        - HouseAge      median house age in block\n",
      "        - AveRooms      average number of rooms\n",
      "        - AveBedrms     average number of bedrooms\n",
      "        - Population    block population\n",
      "        - AveOccup      average house occupancy\n",
      "        - Latitude      house block latitude\n",
      "        - Longitude     house block longitude\n",
      "\n",
      "    :Missing Attribute Values: None\n",
      "\n",
      "This dataset was obtained from the StatLib repository.\n",
      "http://lib.stat.cmu.edu/datasets/\n",
      "\n",
      "The target variable is the median house value for California districts.\n",
      "\n",
      "This dataset was derived from the 1990 U.S. census, using one row per census\n",
      "block group. A block group is the smallest geographical unit for which the U.S.\n",
      "Census Bureau publishes sample data (a block group typically has a population\n",
      "of 600 to 3,000 people).\n",
      "\n",
      "It can be downloaded/loaded using the\n",
      ":func:`sklearn.datasets.fetch_california_housing` function.\n",
      "\n",
      ".. topic:: References\n",
      "\n",
      "    - Pace, R. Kelley and Ronald Barry, Sparse Spatial Autoregressions,\n",
      "      Statistics and Probability Letters, 33 (1997) 291-297\n",
      "\n",
      "(20640, 8)\n",
      "(20640,)\n"
     ]
    }
   ],
   "source": [
    "# 导入数据\n",
    "from sklearn.datasets import fetch_california_housing\n",
    "\n",
    "housing = fetch_california_housing()\n",
    "print(housing.DESCR)\n",
    "print(housing.data.shape)\n",
    "print(housing.target.shape)\n"
   ]
  },
  {
   "cell_type": "code",
   "execution_count": 3,
   "metadata": {},
   "outputs": [
    {
     "name": "stdout",
     "output_type": "stream",
     "text": [
      "(11610, 8) (11610,)\n",
      "(3870, 8) (3870,)\n",
      "(5160, 8) (5160,)\n"
     ]
    }
   ],
   "source": [
    "from sklearn.model_selection import train_test_split\n",
    "\n",
    "x_train_all, x_test, y_train_all, y_test = train_test_split(\n",
    "    housing.data, housing.target, random_state=7)\n",
    "\n",
    "x_train, x_valid, y_train, y_valid = train_test_split(\n",
    "    x_train_all, y_train_all, random_state= 11)\n",
    "\n",
    "print(x_train.shape, y_train.shape)\n",
    "print(x_valid.shape, y_valid.shape)\n",
    "print(x_test.shape, y_test.shape)"
   ]
  },
  {
   "cell_type": "code",
   "execution_count": 4,
   "metadata": {},
   "outputs": [
    {
     "name": "stdout",
     "output_type": "stream",
     "text": [
      "(11610, 8)\n",
      "(3870, 8)\n",
      "(5160, 8)\n",
      "28566.0 -124.3 81.80221745207753 -2.3594398206242224\n"
     ]
    }
   ],
   "source": [
    "from sklearn.preprocessing import StandardScaler\n",
    "\n",
    "scaler = StandardScaler()\n",
    "# x_train: [None, 28, 28] -> [None, 784] -> [None, 28, 28]\n",
    "x_train_scaled = scaler.fit_transform(x_train)\n",
    "x_valid_scaled = scaler.transform(x_valid)\n",
    "x_test_scaled = scaler.transform(x_test)\n",
    "\n",
    "print(x_train_scaled.shape)\n",
    "print(x_valid_scaled.shape)\n",
    "print(x_test_scaled.shape)\n",
    "print(np.max(x_train), np.min(x_train), np.max(x_train_scaled), np.min(x_train_scaled))"
   ]
  },
  {
   "cell_type": "code",
   "execution_count": 5,
   "metadata": {},
   "outputs": [
    {
     "name": "stdout",
     "output_type": "stream",
     "text": [
      "Model: \"model\"\n",
      "__________________________________________________________________________________________________\n",
      "Layer (type)                    Output Shape         Param #     Connected to                     \n",
      "==================================================================================================\n",
      "input_2 (InputLayer)            [(None, 6)]          0                                            \n",
      "__________________________________________________________________________________________________\n",
      "dense (Dense)                   (None, 30)           210         input_2[0][0]                    \n",
      "__________________________________________________________________________________________________\n",
      "input_1 (InputLayer)            [(None, 5)]          0                                            \n",
      "__________________________________________________________________________________________________\n",
      "dense_1 (Dense)                 (None, 30)           930         dense[0][0]                      \n",
      "__________________________________________________________________________________________________\n",
      "concatenate (Concatenate)       (None, 35)           0           input_1[0][0]                    \n",
      "                                                                 dense_1[0][0]                    \n",
      "__________________________________________________________________________________________________\n",
      "dense_2 (Dense)                 (None, 1)            36          concatenate[0][0]                \n",
      "__________________________________________________________________________________________________\n",
      "dense_3 (Dense)                 (None, 1)            31          dense_1[0][0]                    \n",
      "==================================================================================================\n",
      "Total params: 1,207\n",
      "Trainable params: 1,207\n",
      "Non-trainable params: 0\n",
      "__________________________________________________________________________________________________\n"
     ]
    }
   ],
   "source": [
    "# 多输出\n",
    "input_wide = keras.layers.Input(shape=[5])\n",
    "input_deep = keras.layers.Input(shape=[6])\n",
    "hidden1 = keras.layers.Dense(30, activation='relu')(input_deep)\n",
    "hidden2 = keras.layers.Dense(30, activation='relu')(hidden1)\n",
    "concat = keras.layers.concatenate([input_wide, hidden2])\n",
    "output = keras.layers.Dense(1)(concat)\n",
    "output2 = keras.layers.Dense(1)(hidden2)\n",
    "\n",
    "model = keras.models.Model(inputs=[input_wide, input_deep],\n",
    "                          outputs=[output, output2])\n",
    "\n",
    "model.summary()\n",
    "\n",
    "model.compile(loss='mean_squared_error', optimizer='sgd')\n",
    "callbacks = [keras.callbacks.EarlyStopping(patience=5, min_delta=1e-10)]"
   ]
  },
  {
   "cell_type": "code",
   "execution_count": 6,
   "metadata": {},
   "outputs": [
    {
     "name": "stdout",
     "output_type": "stream",
     "text": [
      "Epoch 1/100\n",
      "363/363 [==============================] - 0s 1ms/step - loss: 1.9964 - dense_2_loss: 0.8441 - dense_3_loss: 1.1523 - val_loss: 1.5346 - val_dense_2_loss: 0.6038 - val_dense_3_loss: 0.9307\n",
      "Epoch 2/100\n",
      "363/363 [==============================] - 0s 982us/step - loss: 1.1263 - dense_2_loss: 0.4736 - dense_3_loss: 0.6527 - val_loss: 1.0772 - val_dense_2_loss: 0.4541 - val_dense_3_loss: 0.6231\n",
      "Epoch 3/100\n",
      "363/363 [==============================] - 0s 970us/step - loss: 1.0033 - dense_2_loss: 0.4346 - dense_3_loss: 0.5687 - val_loss: 0.9783 - val_dense_2_loss: 0.4272 - val_dense_3_loss: 0.5511\n",
      "Epoch 4/100\n",
      "363/363 [==============================] - 0s 970us/step - loss: 0.9071 - dense_2_loss: 0.3919 - dense_3_loss: 0.5152 - val_loss: 0.9635 - val_dense_2_loss: 0.4177 - val_dense_3_loss: 0.5458\n",
      "Epoch 5/100\n",
      "363/363 [==============================] - 0s 999us/step - loss: 0.8663 - dense_2_loss: 0.3806 - dense_3_loss: 0.4857 - val_loss: 0.9122 - val_dense_2_loss: 0.4251 - val_dense_3_loss: 0.4871\n",
      "Epoch 6/100\n",
      "363/363 [==============================] - 0s 963us/step - loss: 0.8322 - dense_2_loss: 0.3688 - dense_3_loss: 0.4634 - val_loss: 0.8488 - val_dense_2_loss: 0.3818 - val_dense_3_loss: 0.4670\n",
      "Epoch 7/100\n",
      "363/363 [==============================] - 0s 985us/step - loss: 0.8070 - dense_2_loss: 0.3595 - dense_3_loss: 0.4475 - val_loss: 0.8194 - val_dense_2_loss: 0.3708 - val_dense_3_loss: 0.4486\n",
      "Epoch 8/100\n",
      "363/363 [==============================] - 0s 967us/step - loss: 0.7871 - dense_2_loss: 0.3532 - dense_3_loss: 0.4339 - val_loss: 0.8061 - val_dense_2_loss: 0.3655 - val_dense_3_loss: 0.4406\n",
      "Epoch 9/100\n",
      "363/363 [==============================] - 0s 971us/step - loss: 0.7744 - dense_2_loss: 0.3495 - dense_3_loss: 0.4249 - val_loss: 0.8267 - val_dense_2_loss: 0.3778 - val_dense_3_loss: 0.4488\n",
      "Epoch 10/100\n",
      "363/363 [==============================] - 0s 973us/step - loss: 0.7633 - dense_2_loss: 0.3445 - dense_3_loss: 0.4188 - val_loss: 0.8325 - val_dense_2_loss: 0.3738 - val_dense_3_loss: 0.4587\n",
      "Epoch 11/100\n",
      "363/363 [==============================] - 0s 975us/step - loss: 0.7540 - dense_2_loss: 0.3432 - dense_3_loss: 0.4108 - val_loss: 0.8760 - val_dense_2_loss: 0.3956 - val_dense_3_loss: 0.4805\n",
      "Epoch 12/100\n",
      "363/363 [==============================] - 0s 971us/step - loss: 0.7461 - dense_2_loss: 0.3397 - dense_3_loss: 0.4064 - val_loss: 0.7605 - val_dense_2_loss: 0.3519 - val_dense_3_loss: 0.4087\n",
      "Epoch 13/100\n",
      "363/363 [==============================] - 0s 986us/step - loss: 0.7404 - dense_2_loss: 0.3371 - dense_3_loss: 0.4033 - val_loss: 0.7786 - val_dense_2_loss: 0.3569 - val_dense_3_loss: 0.4216\n",
      "Epoch 14/100\n",
      "363/363 [==============================] - 0s 983us/step - loss: 0.7321 - dense_2_loss: 0.3337 - dense_3_loss: 0.3985 - val_loss: 0.7811 - val_dense_2_loss: 0.3571 - val_dense_3_loss: 0.4240\n",
      "Epoch 15/100\n",
      "363/363 [==============================] - 0s 1ms/step - loss: 0.7318 - dense_2_loss: 0.3340 - dense_3_loss: 0.3978 - val_loss: 0.7411 - val_dense_2_loss: 0.3396 - val_dense_3_loss: 0.4015\n",
      "Epoch 16/100\n",
      "363/363 [==============================] - 0s 990us/step - loss: 0.7209 - dense_2_loss: 0.3305 - dense_3_loss: 0.3904 - val_loss: 0.7742 - val_dense_2_loss: 0.3567 - val_dense_3_loss: 0.4175\n",
      "Epoch 17/100\n",
      "363/363 [==============================] - 0s 1ms/step - loss: 0.7247 - dense_2_loss: 0.3322 - dense_3_loss: 0.3925 - val_loss: 0.8300 - val_dense_2_loss: 0.3772 - val_dense_3_loss: 0.4527\n",
      "Epoch 18/100\n",
      "363/363 [==============================] - 0s 1ms/step - loss: 0.7151 - dense_2_loss: 0.3279 - dense_3_loss: 0.3872 - val_loss: 0.7668 - val_dense_2_loss: 0.3569 - val_dense_3_loss: 0.4098\n",
      "Epoch 19/100\n",
      "363/363 [==============================] - 0s 999us/step - loss: 0.7143 - dense_2_loss: 0.3309 - dense_3_loss: 0.3834 - val_loss: 0.7655 - val_dense_2_loss: 0.3514 - val_dense_3_loss: 0.4142\n",
      "Epoch 20/100\n",
      "363/363 [==============================] - 0s 1ms/step - loss: 0.7086 - dense_2_loss: 0.3262 - dense_3_loss: 0.3825 - val_loss: 0.7308 - val_dense_2_loss: 0.3368 - val_dense_3_loss: 0.3940\n",
      "Epoch 21/100\n",
      "363/363 [==============================] - 0s 976us/step - loss: 0.7049 - dense_2_loss: 0.3228 - dense_3_loss: 0.3821 - val_loss: 0.7356 - val_dense_2_loss: 0.3383 - val_dense_3_loss: 0.3972\n",
      "Epoch 22/100\n",
      "363/363 [==============================] - 0s 1ms/step - loss: 0.7033 - dense_2_loss: 0.3237 - dense_3_loss: 0.3796 - val_loss: 0.7251 - val_dense_2_loss: 0.3358 - val_dense_3_loss: 0.3893\n",
      "Epoch 23/100\n",
      "363/363 [==============================] - 0s 1ms/step - loss: 0.7014 - dense_2_loss: 0.3219 - dense_3_loss: 0.3796 - val_loss: 0.7427 - val_dense_2_loss: 0.3476 - val_dense_3_loss: 0.3951\n",
      "Epoch 24/100\n",
      "363/363 [==============================] - 0s 1ms/step - loss: 0.6988 - dense_2_loss: 0.3214 - dense_3_loss: 0.3773 - val_loss: 0.7019 - val_dense_2_loss: 0.3244 - val_dense_3_loss: 0.3774\n",
      "Epoch 25/100\n",
      "363/363 [==============================] - 0s 992us/step - loss: 0.6949 - dense_2_loss: 0.3195 - dense_3_loss: 0.3754 - val_loss: 0.7273 - val_dense_2_loss: 0.3339 - val_dense_3_loss: 0.3934\n",
      "Epoch 26/100\n",
      "363/363 [==============================] - 0s 992us/step - loss: 0.6917 - dense_2_loss: 0.3192 - dense_3_loss: 0.3725 - val_loss: 0.7301 - val_dense_2_loss: 0.3365 - val_dense_3_loss: 0.3936\n",
      "Epoch 27/100\n",
      "363/363 [==============================] - 0s 984us/step - loss: 0.6924 - dense_2_loss: 0.3185 - dense_3_loss: 0.3739 - val_loss: 0.7366 - val_dense_2_loss: 0.3439 - val_dense_3_loss: 0.3926\n",
      "Epoch 28/100\n",
      "363/363 [==============================] - 0s 985us/step - loss: 0.6915 - dense_2_loss: 0.3187 - dense_3_loss: 0.3727 - val_loss: 0.7126 - val_dense_2_loss: 0.3285 - val_dense_3_loss: 0.3841\n",
      "Epoch 29/100\n",
      "363/363 [==============================] - 0s 987us/step - loss: 0.6910 - dense_2_loss: 0.3182 - dense_3_loss: 0.3728 - val_loss: 0.7038 - val_dense_2_loss: 0.3267 - val_dense_3_loss: 0.3771\n"
     ]
    }
   ],
   "source": [
    "x_train_scaled_wide = x_train_scaled[:, :5]\n",
    "x_train_scaled_deep = x_train_scaled[:, 2:]\n",
    "x_valid_scaled_wide = x_valid_scaled[:, :5]\n",
    "x_valid_scaled_deep = x_valid_scaled[:, 2:]\n",
    "x_test_scaled_wide = x_test_scaled[:, :5]\n",
    "x_test_scaled_deep = x_test_scaled[:, 2:]\n",
    "\n",
    "history=model.fit([x_train_scaled_wide, x_train_scaled_deep], [y_train, y_train], \n",
    "                 validation_data=([x_valid_scaled_wide, x_valid_scaled_deep], [y_valid, y_valid]),\n",
    "                 epochs=100, \n",
    "                 callbacks = callbacks)"
   ]
  },
  {
   "cell_type": "code",
   "execution_count": 7,
   "metadata": {},
   "outputs": [
    {
     "data": {
      "image/png": "[encoded data removed]",
      "text/plain": [
       "<Figure size 576x360 with 1 Axes>"
      ]
     },
     "metadata": {
      "needs_background": "light"
     },
     "output_type": "display_data"
    }
   ],
   "source": [
    "def plot_learning_curves(history):\n",
    "    pd.DataFrame(history.history).plot(figsize=(8, 5))\n",
    "    plt.grid(True)\n",
    "    plt.gca().set_ylim(0, 2)\n",
    "    plt.show()\n",
    "plot_learning_curves(history)\n",
    "\n",
    "# 1. 参数众多，训练不充分\n",
    "# 2. 梯度（导数）消失 --> 链式法则 --> 复合函数求导 f(g(x)) \n",
    "#   批归一化可以缓解梯度小时：批归一化使得每层的值变得更加的规整"
   ]
  },
  {
   "cell_type": "code",
   "execution_count": 8,
   "metadata": {},
   "outputs": [
    {
     "name": "stdout",
     "output_type": "stream",
     "text": [
      "162/162 [==============================] - 0s 700us/step - loss: 0.6862 - dense_2_loss: 0.3224 - dense_3_loss: 0.3638\n"
     ]
    },
    {
     "data": {
      "text/plain": [
       "[0.6861923933029175, 0.3224188983440399, 0.36377376317977905]"
      ]
     },
     "execution_count": 8,
     "metadata": {},
     "output_type": "execute_result"
    }
   ],
   "source": [
    "model.evaluate([x_test_scaled_wide, x_test_scaled_deep], y_test)"
   ]
  },
  {
   "cell_type": "code",
   "execution_count": null,
   "metadata": {},
   "outputs": [],
   "source": []
  }
 ],
 "metadata": {
  "kernelspec": {
   "display_name": "Python 3",
   "language": "python",
   "name": "python3"
  },
  "language_info": {
   "codemirror_mode": {
    "name": "ipython",
    "version": 3
   },
   "file_extension": ".py",
   "mimetype": "text/x-python",
   "name": "python",
   "nbconvert_exporter": "python",
   "pygments_lexer": "ipython3",
   "version": "3.7.3"
  }
 },
 "nbformat": 4,
 "nbformat_minor": 4
}
