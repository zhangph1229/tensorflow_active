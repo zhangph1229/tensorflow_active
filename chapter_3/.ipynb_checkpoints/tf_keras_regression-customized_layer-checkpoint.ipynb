{
 "cells": [
  {
   "cell_type": "code",
   "execution_count": 1,
   "metadata": {},
   "outputs": [
    {
     "name": "stdout",
     "output_type": "stream",
     "text": [
      "2.2.0\n",
      "sys.version_info(major=3, minor=7, micro=3, releaselevel='final', serial=0)\n",
      "matplotlib 3.2.1\n",
      "numpy 1.18.5\n",
      "pandas 1.0.4\n",
      "sklearn 0.23.1\n",
      "tensorflow 2.2.0\n",
      "tensorflow.keras 2.3.0-tf\n"
     ]
    }
   ],
   "source": [
    "import matplotlib as mpl \n",
    "import matplotlib.pyplot as plt\n",
    "%matplotlib inline\n",
    "import numpy as np\n",
    "import sklearn \n",
    "import pandas as pd \n",
    "import os \n",
    "import sys\n",
    "import time \n",
    "import tensorflow as tf \n",
    "from tensorflow import keras \n",
    "\n",
    "print(tf.__version__)\n",
    "print(sys.version_info)\n",
    "for module in mpl, np, pd, sklearn, tf, keras:\n",
    "    print(module.__name__, module.__version__)"
   ]
  },
  {
   "cell_type": "code",
   "execution_count": null,
   "metadata": {},
   "outputs": [],
   "source": [
    "layer = tf.keras.layers.Dense(100)\n",
    "layer = tf.keras.layers.Dense(100, input_shape=(None, 5))\n",
    "layer(tf.zeros([10, 5]))\n"
   ]
  },
  {
   "cell_type": "code",
   "execution_count": 2,
   "metadata": {},
   "outputs": [
    {
     "name": "stdout",
     "output_type": "stream",
     "text": [
      ".. _california_housing_dataset:\n",
      "\n",
      "California Housing dataset\n",
      "--------------------------\n",
      "\n",
      "**Data Set Characteristics:**\n",
      "\n",
      "    :Number of Instances: 20640\n",
      "\n",
      "    :Number of Attributes: 8 numeric, predictive attributes and the target\n",
      "\n",
      "    :Attribute Information:\n",
      "        - MedInc        median income in block\n",
      "        - HouseAge      median house age in block\n",
      "        - AveRooms      average number of rooms\n",
      "        - AveBedrms     average number of bedrooms\n",
      "        - Population    block population\n",
      "        - AveOccup      average house occupancy\n",
      "        - Latitude      house block latitude\n",
      "        - Longitude     house block longitude\n",
      "\n",
      "    :Missing Attribute Values: None\n",
      "\n",
      "This dataset was obtained from the StatLib repository.\n",
      "http://lib.stat.cmu.edu/datasets/\n",
      "\n",
      "The target variable is the median house value for California districts.\n",
      "\n",
      "This dataset was derived from the 1990 U.S. census, using one row per census\n",
      "block group. A block group is the smallest geographical unit for which the U.S.\n",
      "Census Bureau publishes sample data (a block group typically has a population\n",
      "of 600 to 3,000 people).\n",
      "\n",
      "It can be downloaded/loaded using the\n",
      ":func:`sklearn.datasets.fetch_california_housing` function.\n",
      "\n",
      ".. topic:: References\n",
      "\n",
      "    - Pace, R. Kelley and Ronald Barry, Sparse Spatial Autoregressions,\n",
      "      Statistics and Probability Letters, 33 (1997) 291-297\n",
      "\n",
      "(20640, 8)\n",
      "(20640,)\n"
     ]
    }
   ],
   "source": [
    "# 导入数据\n",
    "from sklearn.datasets import fetch_california_housing\n",
    "\n",
    "housing = fetch_california_housing()\n",
    "print(housing.DESCR)\n",
    "print(housing.data.shape)\n",
    "print(housing.target.shape)\n"
   ]
  },
  {
   "cell_type": "code",
   "execution_count": 3,
   "metadata": {},
   "outputs": [
    {
     "name": "stdout",
     "output_type": "stream",
     "text": [
      "array([[ 8.32520000e+00,  4.10000000e+01,  6.98412698e+00,\n",
      "         1.02380952e+00,  3.22000000e+02,  2.55555556e+00,\n",
      "         3.78800000e+01, -1.22230000e+02],\n",
      "       [ 8.30140000e+00,  2.10000000e+01,  6.23813708e+00,\n",
      "         9.71880492e-01,  2.40100000e+03,  2.10984183e+00,\n",
      "         3.78600000e+01, -1.22220000e+02],\n",
      "       [ 7.25740000e+00,  5.20000000e+01,  8.28813559e+00,\n",
      "         1.07344633e+00,  4.96000000e+02,  2.80225989e+00,\n",
      "         3.78500000e+01, -1.22240000e+02],\n",
      "       [ 5.64310000e+00,  5.20000000e+01,  5.81735160e+00,\n",
      "         1.07305936e+00,  5.58000000e+02,  2.54794521e+00,\n",
      "         3.78500000e+01, -1.22250000e+02],\n",
      "       [ 3.84620000e+00,  5.20000000e+01,  6.28185328e+00,\n",
      "         1.08108108e+00,  5.65000000e+02,  2.18146718e+00,\n",
      "         3.78500000e+01, -1.22250000e+02]])\n",
      "array([4.526, 3.585, 3.521, 3.413, 3.422])\n"
     ]
    }
   ],
   "source": [
    "import pprint\n",
    "pprint.pprint(housing.data[0:5])\n",
    "pprint.pprint(housing.target[0:5])"
   ]
  },
  {
   "cell_type": "code",
   "execution_count": 4,
   "metadata": {},
   "outputs": [
    {
     "name": "stdout",
     "output_type": "stream",
     "text": [
      "(11610, 8) (11610,)\n",
      "(3870, 8) (3870,)\n",
      "(5160, 8) (5160,)\n"
     ]
    }
   ],
   "source": [
    "from sklearn.model_selection import train_test_split\n",
    "\n",
    "x_train_all, x_test, y_train_all, y_test = train_test_split(\n",
    "    housing.data, housing.target, random_state=7)\n",
    "\n",
    "x_train, x_valid, y_train, y_valid = train_test_split(\n",
    "    x_train_all, y_train_all, random_state= 11)\n",
    "\n",
    "print(x_train.shape, y_train.shape)\n",
    "print(x_valid.shape, y_valid.shape)\n",
    "print(x_test.shape, y_test.shape)"
   ]
  },
  {
   "cell_type": "code",
   "execution_count": 5,
   "metadata": {},
   "outputs": [
    {
     "name": "stdout",
     "output_type": "stream",
     "text": [
      "(11610, 8)\n",
      "(3870, 8)\n",
      "(5160, 8)\n",
      "28566.0 -124.3 81.80221745207753 -2.3594398206242224\n"
     ]
    }
   ],
   "source": [
    "from sklearn.preprocessing import StandardScaler\n",
    "\n",
    "scaler = StandardScaler()\n",
    "x_train_scaled = scaler.fit_transform(x_train)\n",
    "x_valid_scaled = scaler.transform(x_valid)\n",
    "x_test_scaled = scaler.transform(x_test)\n",
    "\n",
    "print(x_train_scaled.shape)\n",
    "print(x_valid_scaled.shape)\n",
    "print(x_test_scaled.shape)\n",
    "print(np.max(x_train), np.min(x_train), np.max(x_train_scaled), np.min(x_train_scaled))"
   ]
  },
  {
   "cell_type": "code",
   "execution_count": 14,
   "metadata": {},
   "outputs": [
    {
     "name": "stdout",
     "output_type": "stream",
     "text": [
      "tf.Tensor([4.5417706e-05 6.7153489e-03 6.9314718e-01 5.0067153e+00 1.0000046e+01], shape=(5,), dtype=float32)\n"
     ]
    }
   ],
   "source": [
    "# tf.nn.softplus : log(1+e^x)\n",
    "customized_softplous = keras.layers.Lambda(lambda x: tf.nn.softplus(x))\n",
    "\n",
    "print(customized_softplous([-10., -5., 0., 5., 10.]))"
   ]
  },
  {
   "cell_type": "code",
   "execution_count": 15,
   "metadata": {},
   "outputs": [
    {
     "name": "stdout",
     "output_type": "stream",
     "text": [
      "Model: \"sequential_2\"\n",
      "_________________________________________________________________\n",
      "Layer (type)                 Output Shape              Param #   \n",
      "=================================================================\n",
      "customized_dense_layer_4 (Cu (None, 30)                270       \n",
      "_________________________________________________________________\n",
      "customized_dense_layer_5 (Cu (None, 1)                 31        \n",
      "_________________________________________________________________\n",
      "lambda_2 (Lambda)            (None, 1)                 0         \n",
      "=================================================================\n",
      "Total params: 301\n",
      "Trainable params: 301\n",
      "Non-trainable params: 0\n",
      "_________________________________________________________________\n"
     ]
    }
   ],
   "source": [
    "class CustomizedDenseLayer(keras.layers.Layer):\n",
    "    def __init__(self, units, activation=None, **kwargs):\n",
    "        self.units = units\n",
    "        self.activation = keras.layers.Activation(activation)\n",
    "        super(CustomizedDenseLayer, self).__init__(**kwargs)\n",
    "    \n",
    "    def build(self, input_shape):\n",
    "        \"\"\"构建所需要的参数\"\"\"\n",
    "        # x * w + b \n",
    "        # input_shape: [None, a], w: [a, b], output_shape:[None, b]\n",
    "        self.kernel = self.add_weight(name = 'kernel', \n",
    "                                     shape = (input_shape[1], self.units), \n",
    "                                     initializer = 'uniform',\n",
    "                                     trainable=True)\n",
    "        self.bias = self.add_weight(name = 'bias', \n",
    "                                   shape = (self.units, ), \n",
    "                                   trainable = True)\n",
    "        \n",
    "        super(CustomizedDenseLayer, self).build(input_shape)\n",
    "   \n",
    "    def call(self, x):\n",
    "        \"\"\"完成正向计算\"\"\"\n",
    "        return self.activation(x @ self.kernel + self.bias)\n",
    "\n",
    "\n",
    "\n",
    "model = keras.models.Sequential([\n",
    "    CustomizedDenseLayer(30, activation='relu',\n",
    "                      input_shape=x_train.shape[1:]),\n",
    "    CustomizedDenseLayer(1), \n",
    "    customized_softplous\n",
    "    # keras.layers.Dense(1, activation = 'softplus')\n",
    "    # kears.layers.Dense(1), keras.layers.Activation('softplus')\n",
    "])\n",
    "\n",
    "model.summary()\n",
    "\n",
    "model.compile(loss='mean_squared_error', optimizer='sgd')\n",
    "callbacks = [keras.callbacks.EarlyStopping(patience=5, min_delta=1e-2)]\n"
   ]
  },
  {
   "cell_type": "code",
   "execution_count": 16,
   "metadata": {
    "scrolled": true
   },
   "outputs": [
    {
     "name": "stdout",
     "output_type": "stream",
     "text": [
      "Epoch 1/100\n",
      "363/363 [==============================] - 0s 874us/step - loss: 0.8669 - val_loss: 0.6537\n",
      "Epoch 2/100\n",
      "363/363 [==============================] - 0s 744us/step - loss: 0.5752 - val_loss: 0.5764\n",
      "Epoch 3/100\n",
      "363/363 [==============================] - 0s 760us/step - loss: 0.5118 - val_loss: 0.5232\n",
      "Epoch 4/100\n",
      "363/363 [==============================] - 0s 762us/step - loss: 0.4728 - val_loss: 0.4861\n",
      "Epoch 5/100\n",
      "363/363 [==============================] - 0s 746us/step - loss: 0.4558 - val_loss: 0.4721\n",
      "Epoch 6/100\n",
      "363/363 [==============================] - 0s 753us/step - loss: 0.4384 - val_loss: 0.4549\n",
      "Epoch 7/100\n",
      "363/363 [==============================] - 0s 759us/step - loss: 0.4276 - val_loss: 0.4460\n",
      "Epoch 8/100\n",
      "363/363 [==============================] - 0s 753us/step - loss: 0.4196 - val_loss: 0.4338\n",
      "Epoch 9/100\n",
      "363/363 [==============================] - 0s 767us/step - loss: 0.4128 - val_loss: 0.4336\n",
      "Epoch 10/100\n",
      "363/363 [==============================] - 0s 783us/step - loss: 0.4075 - val_loss: 0.4187\n",
      "Epoch 11/100\n",
      "363/363 [==============================] - 0s 830us/step - loss: 0.3999 - val_loss: 0.4181\n",
      "Epoch 12/100\n",
      "363/363 [==============================] - 0s 817us/step - loss: 0.3957 - val_loss: 0.4171\n",
      "Epoch 13/100\n",
      "363/363 [==============================] - 0s 842us/step - loss: 0.3911 - val_loss: 0.4064\n",
      "Epoch 14/100\n",
      "363/363 [==============================] - 0s 831us/step - loss: 0.3875 - val_loss: 0.4057\n",
      "Epoch 15/100\n",
      "363/363 [==============================] - 0s 829us/step - loss: 0.3833 - val_loss: 0.4006\n",
      "Epoch 16/100\n",
      "363/363 [==============================] - 0s 794us/step - loss: 0.3814 - val_loss: 0.3973\n",
      "Epoch 17/100\n",
      "363/363 [==============================] - 0s 753us/step - loss: 0.3782 - val_loss: 0.3950\n",
      "Epoch 18/100\n",
      "363/363 [==============================] - 0s 761us/step - loss: 0.3762 - val_loss: 0.3938\n",
      "Epoch 19/100\n",
      "363/363 [==============================] - 0s 757us/step - loss: 0.3753 - val_loss: 0.3954\n",
      "Epoch 20/100\n",
      "363/363 [==============================] - 0s 763us/step - loss: 0.3728 - val_loss: 0.3879\n",
      "Epoch 21/100\n",
      "363/363 [==============================] - 0s 760us/step - loss: 0.3712 - val_loss: 0.3837\n",
      "Epoch 22/100\n",
      "363/363 [==============================] - 0s 760us/step - loss: 0.3689 - val_loss: 0.3868\n",
      "Epoch 23/100\n",
      "363/363 [==============================] - 0s 753us/step - loss: 0.3686 - val_loss: 0.3890\n",
      "Epoch 24/100\n",
      "363/363 [==============================] - 0s 773us/step - loss: 0.3671 - val_loss: 0.3878\n",
      "Epoch 25/100\n",
      "363/363 [==============================] - 0s 742us/step - loss: 0.3660 - val_loss: 0.3872\n",
      "Epoch 26/100\n",
      "363/363 [==============================] - 0s 751us/step - loss: 0.3649 - val_loss: 0.3795\n"
     ]
    }
   ],
   "source": [
    "history=model.fit(x_train_scaled, y_train, epochs=100, \n",
    "                 validation_data=(x_valid_scaled, y_valid),\n",
    "                 callbacks=callbacks)"
   ]
  },
  {
   "cell_type": "code",
   "execution_count": 17,
   "metadata": {},
   "outputs": [
    {
     "data": {
      "image/png": "[encoded data removed]",
      "text/plain": [
       "<Figure size 576x360 with 1 Axes>"
      ]
     },
     "metadata": {
      "needs_background": "light"
     },
     "output_type": "display_data"
    }
   ],
   "source": [
    "def plot_learning_curves(history):\n",
    "    pd.DataFrame(history.history).plot(figsize=(8, 5))\n",
    "    plt.grid(True)\n",
    "    plt.gca().set_ylim(0, 1)\n",
    "    plt.show()\n",
    "plot_learning_curves(history)"
   ]
  },
  {
   "cell_type": "code",
   "execution_count": 18,
   "metadata": {},
   "outputs": [
    {
     "name": "stdout",
     "output_type": "stream",
     "text": [
      "162/162 [==============================] - 0s 501us/step - loss: 0.3860\n"
     ]
    },
    {
     "data": {
      "text/plain": [
       "0.3860088586807251"
      ]
     },
     "execution_count": 18,
     "metadata": {},
     "output_type": "execute_result"
    }
   ],
   "source": [
    "model.evaluate(x_test_scaled, y_test)"
   ]
  },
  {
   "cell_type": "code",
   "execution_count": null,
   "metadata": {},
   "outputs": [],
   "source": []
  }
 ],
 "metadata": {
  "kernelspec": {
   "display_name": "Python 3",
   "language": "python",
   "name": "python3"
  },
  "language_info": {
   "codemirror_mode": {
    "name": "ipython",
    "version": 3
   },
   "file_extension": ".py",
   "mimetype": "text/x-python",
   "name": "python",
   "nbconvert_exporter": "python",
   "pygments_lexer": "ipython3",
   "version": "3.7.3"
  }
 },
 "nbformat": 4,
 "nbformat_minor": 4
}
