{
 "cells": [
  {
   "cell_type": "code",
   "execution_count": 1,
   "metadata": {},
   "outputs": [
    {
     "name": "stdout",
     "output_type": "stream",
     "text": [
      "2.2.0\n",
      "sys.version_info(major=3, minor=7, micro=3, releaselevel='final', serial=0)\n",
      "matplotlib 3.2.1\n",
      "numpy 1.18.5\n",
      "pandas 1.0.4\n",
      "sklearn 0.23.1\n",
      "tensorflow 2.2.0\n",
      "tensorflow.keras 2.3.0-tf\n"
     ]
    }
   ],
   "source": [
    "import matplotlib as mpl \n",
    "import matplotlib.pyplot as plt\n",
    "%matplotlib inline\n",
    "import numpy as np\n",
    "import sklearn \n",
    "import pandas as pd \n",
    "import os \n",
    "import sys\n",
    "import time \n",
    "import tensorflow as tf \n",
    "from tensorflow import keras \n",
    "\n",
    "print(tf.__version__)\n",
    "print(sys.version_info)\n",
    "for module in mpl, np, pd, sklearn, tf, keras:\n",
    "    print(module.__name__, module.__version__)"
   ]
  },
  {
   "cell_type": "code",
   "execution_count": 2,
   "metadata": {},
   "outputs": [
    {
     "name": "stdout",
     "output_type": "stream",
     "text": [
      ".. _california_housing_dataset:\n",
      "\n",
      "California Housing dataset\n",
      "--------------------------\n",
      "\n",
      "**Data Set Characteristics:**\n",
      "\n",
      "    :Number of Instances: 20640\n",
      "\n",
      "    :Number of Attributes: 8 numeric, predictive attributes and the target\n",
      "\n",
      "    :Attribute Information:\n",
      "        - MedInc        median income in block\n",
      "        - HouseAge      median house age in block\n",
      "        - AveRooms      average number of rooms\n",
      "        - AveBedrms     average number of bedrooms\n",
      "        - Population    block population\n",
      "        - AveOccup      average house occupancy\n",
      "        - Latitude      house block latitude\n",
      "        - Longitude     house block longitude\n",
      "\n",
      "    :Missing Attribute Values: None\n",
      "\n",
      "This dataset was obtained from the StatLib repository.\n",
      "http://lib.stat.cmu.edu/datasets/\n",
      "\n",
      "The target variable is the median house value for California districts.\n",
      "\n",
      "This dataset was derived from the 1990 U.S. census, using one row per census\n",
      "block group. A block group is the smallest geographical unit for which the U.S.\n",
      "Census Bureau publishes sample data (a block group typically has a population\n",
      "of 600 to 3,000 people).\n",
      "\n",
      "It can be downloaded/loaded using the\n",
      ":func:`sklearn.datasets.fetch_california_housing` function.\n",
      "\n",
      ".. topic:: References\n",
      "\n",
      "    - Pace, R. Kelley and Ronald Barry, Sparse Spatial Autoregressions,\n",
      "      Statistics and Probability Letters, 33 (1997) 291-297\n",
      "\n",
      "(20640, 8)\n",
      "(20640,)\n"
     ]
    }
   ],
   "source": [
    "# 导入数据\n",
    "from sklearn.datasets import fetch_california_housing\n",
    "\n",
    "housing = fetch_california_housing()\n"
   ]
  },
  {
   "cell_type": "code",
   "execution_count": 3,
   "metadata": {},
   "outputs": [
    {
     "name": "stdout",
     "output_type": "stream",
     "text": [
      "(11610, 8) (11610,)\n",
      "(3870, 8) (3870,)\n",
      "(5160, 8) (5160,)\n"
     ]
    }
   ],
   "source": [
    "from sklearn.model_selection import train_test_split\n",
    "\n",
    "x_train_all, x_test, y_train_all, y_test = train_test_split(\n",
    "    housing.data, housing.target, random_state=7)\n",
    "\n",
    "x_train, x_valid, y_train, y_valid = train_test_split(\n",
    "    x_train_all, y_train_all, random_state= 11)\n",
    "\n",
    "print(x_train.shape, y_train.shape)\n",
    "print(x_valid.shape, y_valid.shape)\n",
    "print(x_test.shape, y_test.shape)"
   ]
  },
  {
   "cell_type": "code",
   "execution_count": 7,
   "metadata": {},
   "outputs": [
    {
     "name": "stdout",
     "output_type": "stream",
     "text": [
      "(11610, 8)\n",
      "(3870, 8)\n",
      "(5160, 8)\n",
      "28566.0 -124.3 81.80221745207753 -2.3594398206242224\n"
     ]
    }
   ],
   "source": [
    "from sklearn.preprocessing import StandardScaler\n",
    "\n",
    "scaler = StandardScaler()\n",
    "x_train_scaled = scaler.fit_transform(x_train)\n",
    "x_valid_scaled = scaler.transform(x_valid)\n",
    "x_test_scaled = scaler.transform(x_test)\n",
    "\n",
    "print(x_train_scaled.shape)\n",
    "print(x_valid_scaled.shape)\n",
    "print(x_test_scaled.shape)\n",
    "print(np.max(x_train), np.min(x_train), np.max(x_train_scaled), np.min(x_train_scaled))"
   ]
  },
  {
   "cell_type": "code",
   "execution_count": 8,
   "metadata": {},
   "outputs": [
    {
     "name": "stdout",
     "output_type": "stream",
     "text": [
      "tf.Tensor(9.0, shape=(), dtype=float32)\n",
      "tf.Tensor(5.0, shape=(), dtype=float32)\n",
      "tf.Tensor(5.0, shape=(), dtype=float32)\n",
      "tf.Tensor(4.0, shape=(), dtype=float32)\n"
     ]
    }
   ],
   "source": [
    "# metric使用\n",
    "metric = keras.metrics.MeanSquaredError() \n",
    "print(metric([5.], [2.]))\n",
    "print(metric([0.], [1.]))\n",
    "\n",
    "print(metric.result())\n",
    "metric.reset_states()\n",
    "metric([1.], [3.])\n",
    "print(metric.result())"
   ]
  },
  {
   "cell_type": "code",
   "execution_count": 11,
   "metadata": {},
   "outputs": [
    {
     "name": "stdout",
     "output_type": "stream",
     "text": [
      "Epoch 0  train mse: 2.9509854\t valid mse: 1.4660633839570008\n",
      "Epoch 1  train mse: 1.619361\t valid mse: 1.410769448033064\n",
      "Epoch 2  train mse: 1.290606\t valid mse: 1.396533582321529\n",
      "Epoch 3  train mse: 1.2928342\t valid mse: 1.39362948775909\n",
      "Epoch 4  train mse: 1.2926458\t valid mse: 1.3902419818740461\n",
      "Epoch 5  train mse: 1.2543572\t valid mse: 1.3914491509318812\n",
      "Epoch 6  train mse: 1.2564406\t valid mse: 1.388019769660402\n",
      "Epoch 7  train mse: 1.2579564\t valid mse: 1.3989449932493254\n",
      "Epoch 8  train mse: 1.3025923\t valid mse: 1.3868204917438705\n",
      "Epoch 9  train mse: 1.2809137\t valid mse: 1.3876654743763983\n",
      "Epoch 10  train mse: 1.2750435\t valid mse: 1.3863944587948565\n",
      "Epoch 11  train mse: 1.242572\t valid mse: 1.390435079743571\n",
      "Epoch 12  train mse: 1.294721\t valid mse: 1.3862112432559874\n",
      "Epoch 13  train mse: 1.2581574\t valid mse: 1.394424819064982\n",
      "Epoch 14  train mse: 1.2214607\t valid mse: 1.3872408463665218\n",
      "Epoch 15  train mse: 1.2398424\t valid mse: 1.3848889110081715\n",
      "Epoch 16  train mse: 1.2506803\t valid mse: 1.3985670215308652\n",
      "Epoch 17  train mse: 1.2429243\t valid mse: 1.3881328644522262\n",
      "Epoch 18  train mse: 1.2478691\t valid mse: 1.389418162086475\n",
      "Epoch 19  train mse: 1.2666005\t valid mse: 1.3841417694852443\n",
      "Epoch 20  train mse: 1.2536016\t valid mse: 1.3847120199520206\n",
      "Epoch 21  train mse: 1.234254\t valid mse: 1.3926865302940092\n",
      "Epoch 22  train mse: 1.24531755\t valid mse: 1.38767739220775\n",
      "Epoch 23  train mse: 1.2665889\t valid mse: 1.3855364668161638\n",
      "Epoch 24  train mse: 1.2692962\t valid mse: 1.3874136433697184\n",
      "Epoch 25  train mse: 1.273849\t valid mse: 1.3874982810564993\n",
      "Epoch 26  train mse: 1.2599647\t valid mse: 1.3839012207376067\n",
      "Epoch 27  train mse: 1.2488002\t valid mse: 1.3893616549767558\n",
      "Epoch 28  train mse: 1.2513405\t valid mse: 1.3879053182151082\n",
      "Epoch 29  train mse: 1.2244552\t valid mse: 1.3889341634818915\n",
      "Epoch 30  train mse: 1.248617\t valid mse: 1.3843850737503205\n",
      "Epoch 31  train mse: 1.2550707\t valid mse: 1.3856912901068998\n",
      "Epoch 32  train mse: 1.2321088\t valid mse: 1.3943301500639838\n",
      "Epoch 33  train mse: 1.2834891\t valid mse: 1.3834719263918465\n",
      "Epoch 34  train mse: 1.2740264\t valid mse: 1.3843377460305875\n",
      "Epoch 35  train mse: 1.2815645\t valid mse: 1.3838631499356349\n",
      "Epoch 36  train mse: 1.2366577\t valid mse: 1.3895954674605173\n",
      "Epoch 37  train mse: 1.2748168\t valid mse: 1.388160632256672\n",
      "Epoch 38  train mse: 1.2349304\t valid mse: 1.384103184939581\n",
      "Epoch 39  train mse: 1.2563117\t valid mse: 1.3911667951106983\n",
      "Epoch 40  train mse: 1.2820569\t valid mse: 1.3865170537101432\n",
      "Epoch 41  train mse: 1.2264569\t valid mse: 1.403810788511403\n",
      "Epoch 42  train mse: 1.2430646\t valid mse: 1.3853076466962821\n",
      "Epoch 43  train mse: 1.2742878\t valid mse: 1.3845450040069847\n",
      "Epoch 44  train mse: 1.2655238\t valid mse: 1.3836909767506818\n",
      "Epoch 45  train mse: 1.2513225\t valid mse: 1.3911723769823798\n",
      "Epoch 46  train mse: 1.2654864\t valid mse: 1.3845608325654197\n",
      "Epoch 47  train mse: 1.2493383\t valid mse: 1.3841427338615533\n",
      "Epoch 48  train mse: 1.2603499\t valid mse: 1.3849147300509048\n",
      "Epoch 49  train mse: 1.2551761\t valid mse: 1.383391823769558\n",
      "Epoch 50  train mse: 1.2610915\t valid mse: 1.392268936247995\n",
      "Epoch 51  train mse: 1.247169\t valid mse: 1.383815886769872\n",
      "Epoch 52  train mse: 1.2515585\t valid mse: 1.3840464040345386\n",
      "Epoch 53  train mse: 1.27627\t valid mse: 1.3843009981122536\n",
      "Epoch 54  train mse: 1.2502575\t valid mse: 1.3878259598567777\n",
      "Epoch 55  train mse: 1.2430869\t valid mse: 1.3889539273977616\n",
      "Epoch 56  train mse: 1.2503155\t valid mse: 1.383559963528106\n",
      "Epoch 57  train mse: 1.2597612\t valid mse: 1.3859116820380648\n",
      "Epoch 58  train mse: 1.279759\t valid mse: 1.3851402326880935\n",
      "Epoch 59  train mse: 1.2574185\t valid mse: 1.3832491021623525\n",
      "Epoch 60  train mse: 1.2445602\t valid mse: 1.3844980847138377\n",
      "Epoch 61  train mse: 1.2367178\t valid mse: 1.3847894482081264\n",
      "Epoch 62  train mse: 1.2725294\t valid mse: 1.3847809839790055\n",
      "Epoch 63  train mse: 1.2488276\t valid mse: 1.3858879522838834\n",
      "Epoch 64  train mse: 1.2118245\t valid mse: 1.3933737583492019\n",
      "Epoch 65  train mse: 1.2236851\t valid mse: 1.3894344533046972\n",
      "Epoch 66  train mse: 1.2541525\t valid mse: 1.3838948492468042\n",
      "Epoch 67  train mse: 1.2622489\t valid mse: 1.3857535491444346\n",
      "Epoch 68  train mse: 1.2609234\t valid mse: 1.3834522784810774\n",
      "Epoch 69  train mse: 1.2451978\t valid mse: 1.3838116033184642\n",
      "Epoch 70  train mse: 1.2609533\t valid mse: 1.3878314791373232\n",
      "Epoch 71  train mse: 1.2889504\t valid mse: 1.3836619301090192\n",
      "Epoch 72  train mse: 1.2379198\t valid mse: 1.3858080540648445\n",
      "Epoch 73  train mse: 1.2563277\t valid mse: 1.3840889736325412\n",
      "Epoch 74  train mse: 1.2539287\t valid mse: 1.383881333001902\n",
      "Epoch 75  train mse: 1.2637463\t valid mse: 1.3843462731426388\n",
      "Epoch 76  train mse: 1.2687249\t valid mse: 1.3855196558935765\n",
      "Epoch 77  train mse: 1.2586833\t valid mse: 1.3865310578676924\n",
      "Epoch 78  train mse: 1.2511251\t valid mse: 1.383832555628994\n",
      "Epoch 79  train mse: 1.2540785\t valid mse: 1.3872489008848652\n",
      "Epoch 80  train mse: 1.2678347\t valid mse: 1.3863942165801288\n",
      "Epoch 81  train mse: 1.2464561\t valid mse: 1.384177910532477\n",
      "Epoch 82  train mse: 1.2624525\t valid mse: 1.3834338738227523\n",
      "Epoch 83  train mse: 1.2416601\t valid mse: 1.3830220835398097\n",
      "Epoch 84  train mse: 1.2246164\t valid mse: 1.3853222317085236\n",
      "Epoch 85  train mse: 1.2538166\t valid mse: 1.384052860177044\n",
      "Epoch 86  train mse: 1.2153374\t valid mse: 1.3864692478974325\n",
      "Epoch 87  train mse: 1.2599487\t valid mse: 1.3829947884080998\n",
      "Epoch 88  train mse: 1.2763072\t valid mse: 1.38623360972373\n",
      "Epoch 89  train mse: 1.2416364\t valid mse: 1.383742462854911\n",
      "Epoch 90  train mse: 1.226993\t valid mse: 1.3898825903283818\n",
      "Epoch 91  train mse: 1.2648741\t valid mse: 1.3833736303748772\n",
      "Epoch 92  train mse: 1.2787755\t valid mse: 1.3828925842974336\n",
      "Epoch 93  train mse: 1.264228\t valid mse: 1.3855337530882068\n",
      "Epoch 94  train mse: 1.2402682\t valid mse: 1.385888241622535\n",
      "Epoch 95  train mse: 1.2413104\t valid mse: 1.3873015456188087\n",
      "Epoch 96  train mse: 1.2420043\t valid mse: 1.3924441563793035\n",
      "Epoch 97  train mse: 1.2510449\t valid mse: 1.387716029973229\n",
      "Epoch 98  train mse: 1.2222921\t valid mse: 1.3852269021718637\n",
      "Epoch 99  train mse: 1.2600989\t valid mse: 1.3862356251051273\n"
     ]
    }
   ],
   "source": [
    "# 1. batch 遍历训练集 metric\n",
    "#    1.1 自动求导\n",
    "# 2. epoch结束 验证集 metric\n",
    "epochs = 100\n",
    "batch_size = 32 \n",
    "steps_per_epoch = len(x_train_scaled) //batch_size \n",
    "optimizer = keras.optimizers.SGD() \n",
    "metric = keras.metrics.MeanSquaredError()\n",
    "\n",
    "def random_batch(x, y, batch_size = 32):\n",
    "    idx = np.random.randint(0, len(x), size = batch_size)\n",
    "    return x[idx], y[idx]\n",
    "\n",
    "model = keras.models.Sequential([\n",
    "    keras.layers.Dense(30, activation='relu',\n",
    "                      input_shape=x_train.shape[1:]),\n",
    "    keras.layers.Dense(1)\n",
    "])\n",
    "\n",
    "for epoch in range(epochs):\n",
    "    metric.reset_states()\n",
    "    for step in range(steps_per_epoch):\n",
    "        x_batch, y_batch= random_batch(x_train_scaled, y_train, batch_size)\n",
    "        \n",
    "        with tf.GradientTape() as tape:\n",
    "            \n",
    "            y_pred = model(x_batch)\n",
    "            loss = tf.reduce_mean(keras.losses.mean_squared_error(y_batch, y_pred))\n",
    "            metric(y_batch, y_pred)\n",
    "        grads = tape.gradient(loss, model.variables)\n",
    "        grads_and_vars = zip(grads, model.variables)\n",
    "        optimizer.apply_gradients(grads_and_vars)\n",
    "        print(\"\\rEpoch\", epoch, \" train mse:\", metric.result().numpy(), end=\"\")\n",
    "        \n",
    "    y_valid_pred = model(x_valid_scaled)\n",
    "    valid_loss = tf.reduce_mean(\n",
    "        keras.losses.mean_squared_error(y_valid_pred, y_valid))\n",
    "    \n",
    "    print(\"\\t\", \"valid mse:\", valid_loss.numpy())\n",
    "    \n",
    "        "
   ]
  }
 ],
 "metadata": {
  "kernelspec": {
   "display_name": "Python 3",
   "language": "python",
   "name": "python3"
  },
  "language_info": {
   "codemirror_mode": {
    "name": "ipython",
    "version": 3
   },
   "file_extension": ".py",
   "mimetype": "text/x-python",
   "name": "python",
   "nbconvert_exporter": "python",
   "pygments_lexer": "ipython3",
   "version": "3.7.3"
  }
 },
 "nbformat": 4,
 "nbformat_minor": 4
}
