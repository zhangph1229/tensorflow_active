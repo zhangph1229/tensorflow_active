{
 "cells": [
  {
   "cell_type": "markdown",
   "metadata": {},
   "source": [
    "## 1. 本地配置\n",
    "* Virtualenv安装 https://www.tensorflow.org/install/pip\n",
    "    \n",
    "* GPU版环境配置  https://blog.csdn.net/u014595019/article/details/53732015\n",
    "    - 安装显卡驱动 --> Cuda安装 --> cudnn安装 --> tensorflow gpu\n",
    "\n",
    "## 2. 云端配置\n",
    "\n",
    "* 2.1 安装Python brew install python / sudo apt-get install python\n",
    "    \n",
    "* 2.2 安装Python3 brew install python3 / sudo apt-get install python3\n",
    "    \n",
    "* 2.3 安装pip brew install pip  /  \n",
    "         sudo apt-get install software-properties-common --> sudo apt-add-repository universe --> sudo apt-get update --> sudo apt-get install python-pip\n",
    "    \n",
    "* 2.4 安装virtualenv  sudo pip3 install -U virtualenv \n",
    "    \n",
    "    * 2.5 配置virtualenv virtualenv --system-site-packages -p python3 ./tf_py3 \n",
    "    \n",
    "* 2.6 启动和关闭virtualenv环境 source ./tf_py3/bin/activate   关闭： deactivate\n",
    "    \n",
    "* 2.7 安装TensorFlow  pip install tensorflow\n",
    "    \n",
    "* 2.8 安装必备的其他库 pip install numpy matplotlib sklearn pands jupyter\n",
    "    \n",
    "* 2.9 启动和配置jupyter  \n",
    "\n",
    "   - 更改网络类型为静态，防火墙设置 0.0.0.0/0 端口6000~6500\n",
    "    \n",
    "   - jupyter notebook --generate-config \n",
    "\n",
    "---\n",
    "\n",
    "https://www.tensorflow.org/install/gpu?hl=zh-cn\n"
   ]
  },
  {
   "cell_type": "code",
   "execution_count": null,
   "metadata": {},
   "outputs": [],
   "source": []
  }
 ],
 "metadata": {
  "kernelspec": {
   "display_name": "Python 3",
   "language": "python",
   "name": "python3"
  },
  "language_info": {
   "codemirror_mode": {
    "name": "ipython",
    "version": 3
   },
   "file_extension": ".py",
   "mimetype": "text/x-python",
   "name": "python",
   "nbconvert_exporter": "python",
   "pygments_lexer": "ipython3",
   "version": "3.7.3"
  }
 },
 "nbformat": 4,
 "nbformat_minor": 4
}
